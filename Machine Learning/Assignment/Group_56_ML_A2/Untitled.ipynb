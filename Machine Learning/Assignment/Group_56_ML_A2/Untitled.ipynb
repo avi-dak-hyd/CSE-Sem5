{
 "cells": [
  {
   "cell_type": "code",
   "execution_count": 39,
   "metadata": {},
   "outputs": [
    {
     "name": "stdout",
     "output_type": "stream",
     "text": [
      "assignment2\n"
     ]
    }
   ],
   "source": [
    "print(\"assignment2\")"
   ]
  },
  {
   "cell_type": "code",
   "execution_count": 40,
   "metadata": {},
   "outputs": [],
   "source": [
    "import pandas as pd\n",
    "import numpy as np\n",
    "from __future__ import print_function\n",
    "import matplotlib.pyplot as plt "
   ]
  },
  {
   "cell_type": "code",
   "execution_count": 41,
   "metadata": {},
   "outputs": [],
   "source": [
    "df = pd.read_csv(\"Train_F.csv\")"
   ]
  },
  {
   "cell_type": "code",
   "execution_count": 42,
   "metadata": {},
   "outputs": [
    {
     "data": {
      "text/html": [
       "<div>\n",
       "<style scoped>\n",
       "    .dataframe tbody tr th:only-of-type {\n",
       "        vertical-align: middle;\n",
       "    }\n",
       "\n",
       "    .dataframe tbody tr th {\n",
       "        vertical-align: top;\n",
       "    }\n",
       "\n",
       "    .dataframe thead th {\n",
       "        text-align: right;\n",
       "    }\n",
       "</style>\n",
       "<table border=\"1\" class=\"dataframe\">\n",
       "  <thead>\n",
       "    <tr style=\"text-align: right;\">\n",
       "      <th></th>\n",
       "      <th>countyfips</th>\n",
       "      <th>countyname</th>\n",
       "      <th>statename</th>\n",
       "      <th>predicted_deaths_by_october_06</th>\n",
       "      <th>predicted_deaths_by_october_07</th>\n",
       "      <th>predicted_deaths_by_october_08</th>\n",
       "      <th>predicted_deaths_by_october_09</th>\n",
       "      <th>predicted_deaths_by_october_10</th>\n",
       "      <th>predicted_deaths_by_october_11</th>\n",
       "      <th>predicted_deaths_by_october_12</th>\n",
       "      <th>severity_county_5-day</th>\n",
       "    </tr>\n",
       "  </thead>\n",
       "  <tbody>\n",
       "    <tr>\n",
       "      <th>0</th>\n",
       "      <td>36047</td>\n",
       "      <td>Kings</td>\n",
       "      <td>NY</td>\n",
       "      <td>7348.2</td>\n",
       "      <td>7356.8</td>\n",
       "      <td>7366.0</td>\n",
       "      <td>7375.6</td>\n",
       "      <td>7385.8</td>\n",
       "      <td>7396.5</td>\n",
       "      <td>7407.8</td>\n",
       "      <td>3</td>\n",
       "    </tr>\n",
       "    <tr>\n",
       "      <th>1</th>\n",
       "      <td>36081</td>\n",
       "      <td>Queens</td>\n",
       "      <td>NY</td>\n",
       "      <td>7274.1</td>\n",
       "      <td>7283.5</td>\n",
       "      <td>7293.3</td>\n",
       "      <td>7303.7</td>\n",
       "      <td>7314.6</td>\n",
       "      <td>7326.1</td>\n",
       "      <td>7338.2</td>\n",
       "      <td>3</td>\n",
       "    </tr>\n",
       "    <tr>\n",
       "      <th>2</th>\n",
       "      <td>6037</td>\n",
       "      <td>Los Angeles</td>\n",
       "      <td>CA</td>\n",
       "      <td>6667.5</td>\n",
       "      <td>6679.6</td>\n",
       "      <td>6691.9</td>\n",
       "      <td>6704.5</td>\n",
       "      <td>6717.4</td>\n",
       "      <td>6730.6</td>\n",
       "      <td>6744.3</td>\n",
       "      <td>3</td>\n",
       "    </tr>\n",
       "    <tr>\n",
       "      <th>3</th>\n",
       "      <td>17031</td>\n",
       "      <td>Cook</td>\n",
       "      <td>IL</td>\n",
       "      <td>5273.9</td>\n",
       "      <td>5287.0</td>\n",
       "      <td>5300.5</td>\n",
       "      <td>5314.3</td>\n",
       "      <td>5328.6</td>\n",
       "      <td>5343.3</td>\n",
       "      <td>5358.5</td>\n",
       "      <td>3</td>\n",
       "    </tr>\n",
       "    <tr>\n",
       "      <th>4</th>\n",
       "      <td>36005</td>\n",
       "      <td>Bronx</td>\n",
       "      <td>NY</td>\n",
       "      <td>4970.3</td>\n",
       "      <td>4982.1</td>\n",
       "      <td>4994.5</td>\n",
       "      <td>5007.4</td>\n",
       "      <td>5021.1</td>\n",
       "      <td>5035.3</td>\n",
       "      <td>5050.2</td>\n",
       "      <td>3</td>\n",
       "    </tr>\n",
       "  </tbody>\n",
       "</table>\n",
       "</div>"
      ],
      "text/plain": [
       "   countyfips   countyname statename  predicted_deaths_by_october_06  \\\n",
       "0       36047        Kings        NY                          7348.2   \n",
       "1       36081       Queens        NY                          7274.1   \n",
       "2        6037  Los Angeles        CA                          6667.5   \n",
       "3       17031         Cook        IL                          5273.9   \n",
       "4       36005        Bronx        NY                          4970.3   \n",
       "\n",
       "   predicted_deaths_by_october_07  predicted_deaths_by_october_08  \\\n",
       "0                          7356.8                          7366.0   \n",
       "1                          7283.5                          7293.3   \n",
       "2                          6679.6                          6691.9   \n",
       "3                          5287.0                          5300.5   \n",
       "4                          4982.1                          4994.5   \n",
       "\n",
       "   predicted_deaths_by_october_09  predicted_deaths_by_october_10  \\\n",
       "0                          7375.6                          7385.8   \n",
       "1                          7303.7                          7314.6   \n",
       "2                          6704.5                          6717.4   \n",
       "3                          5314.3                          5328.6   \n",
       "4                          5007.4                          5021.1   \n",
       "\n",
       "   predicted_deaths_by_october_11  predicted_deaths_by_october_12  \\\n",
       "0                          7396.5                          7407.8   \n",
       "1                          7326.1                          7338.2   \n",
       "2                          6730.6                          6744.3   \n",
       "3                          5343.3                          5358.5   \n",
       "4                          5035.3                          5050.2   \n",
       "\n",
       "   severity_county_5-day  \n",
       "0                      3  \n",
       "1                      3  \n",
       "2                      3  \n",
       "3                      3  \n",
       "4                      3  "
      ]
     },
     "execution_count": 42,
     "metadata": {},
     "output_type": "execute_result"
    }
   ],
   "source": [
    "df.head()"
   ]
  },
  {
   "cell_type": "code",
   "execution_count": 25,
   "metadata": {},
   "outputs": [],
   "source": [
    "def split_data_random(df):\n",
    "    shuffle_df = df.sample(frac = 1)\n",
    "    train_size = int(0.8*len(df))\n",
    "    train = shuffle_df[:train_size]\n",
    "    test = shuffle_df[train_size:]\n",
    "    \n",
    "    return train, test"
   ]
  },
  {
   "cell_type": "code",
   "execution_count": 26,
   "metadata": {},
   "outputs": [],
   "source": [
    "def handle_missing_data(df):\n",
    "    \n",
    "    \"\"\"\n",
    "    This function will replace all ' ?' values from data frame with maximum occuring\n",
    "    from attribute from that particular attribute\n",
    "    \"\"\"\n",
    "    for col in df.columns:\n",
    "        col_set = df[col]\n",
    "        counts = {}\n",
    "        cnt = 0\n",
    "        for attribute in col_set.unique():\n",
    "            counts[attribute] = 0\n",
    "            if attribute == ' ?':\n",
    "                cnt += 1\n",
    "        if not cnt:\n",
    "            continue\n",
    "        for attribute in col_set:\n",
    "            counts[attribute]+=1\n",
    "        max_freq = ' ?'\n",
    "        for attribute in col_set:\n",
    "            if counts[max_freq]<counts[attribute]:\n",
    "                max_freq = attribute\n",
    "        for i in range(len(df[col])):\n",
    "            if df[col][i] == ' ?':\n",
    "                df[col][i] = max_freq\n",
    "    return df"
   ]
  },
  {
   "cell_type": "code",
   "execution_count": 28,
   "metadata": {},
   "outputs": [],
   "source": [
    "training_data, testing_data = split_data_random(df); # Data spilted here"
   ]
  },
  {
   "cell_type": "code",
   "execution_count": 29,
   "metadata": {},
   "outputs": [],
   "source": [
    "training_data = handle_missing_data(training_data) # missing value modified\n",
    "testing_data = handle_missing_data(testing_data)"
   ]
  },
  {
   "cell_type": "code",
   "execution_count": null,
   "metadata": {},
   "outputs": [],
   "source": []
  }
 ],
 "metadata": {
  "kernelspec": {
   "display_name": "Python 3",
   "language": "python",
   "name": "python3"
  },
  "language_info": {
   "codemirror_mode": {
    "name": "ipython",
    "version": 3
   },
   "file_extension": ".py",
   "mimetype": "text/x-python",
   "name": "python",
   "nbconvert_exporter": "python",
   "pygments_lexer": "ipython3",
   "version": "3.8.3"
  }
 },
 "nbformat": 4,
 "nbformat_minor": 4
}
